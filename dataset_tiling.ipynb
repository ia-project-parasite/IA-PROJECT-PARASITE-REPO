{
 "cells": [
  {
   "cell_type": "code",
   "execution_count": null,
   "id": "72390aa8-2eb3-47a8-92ef-fec22b2b0523",
   "metadata": {},
   "outputs": [],
   "source": [
    "import os\n",
    "import sys\n",
    "from PIL import Image\n",
    "\n",
    "def split_images(original_path, label_path, tile_size, output_path):\n",
    "    # Open both images\n",
    "    original = Image.open(original_path)\n",
    "    label = Image.open(label_path)\n",
    "\n",
    "    # Check that they have the same resolution\n",
    "    if original.size != label.size:\n",
    "        raise ValueError(f\"Image sizes do not match: {img1.size} vs {img2.size}\")\n",
    "\n",
    "    width, height = original.size\n",
    "\n",
    "    # Create output directories\n",
    "    os.makedirs(os.path.join(output_path, \"original\"), exist_ok=True)\n",
    "    os.makedirs(os.path.join(output_path, \"label\"), exist_ok=True)\n",
    "\n",
    "    # Determine image mode (e.g., RGB, L, etc.)\n",
    "    mode1 = original.mode\n",
    "    mode2 = label.mode\n",
    "\n",
    "    tile_count = 0\n",
    "    for y in range(0, height, tile_size):\n",
    "        for x in range(0, width, tile_size):\n",
    "            box = (x, y, min(x + tile_size, width), min(y + tile_size, height))\n",
    "            tile_o = original.crop(box)\n",
    "            tile_l = label.crop(box)\n",
    "\n",
    "            # Create new black tiles and paste the cropped parts\n",
    "            padded_tile_o = Image.new(mode1, (tile_size, tile_size), color=0)\n",
    "            padded_tile_l = Image.new(mode2, (tile_size, tile_size), color=0)\n",
    "            padded_tile_o.paste(tile_o, (0, 0))\n",
    "            padded_tile_l.paste(tile_l, (0, 0))\n",
    "\n",
    "            tile_name = f\"tile_{tile_count:04d}.png\"\n",
    "\n",
    "            padded_tile_o.save(os.path.join(output_path, \"original\", tile_name))\n",
    "            padded_tile_l.save(os.path.join(output_path, \"label\", tile_name))\n",
    "\n",
    "            tile_count += 1\n",
    "    \n",
    "    print(f\"Created {tile_count} tiles\")\n"
   ]
  },
  {
   "cell_type": "code",
   "execution_count": null,
   "id": "985f5530-699b-463b-956d-29c35b879eac",
   "metadata": {},
   "outputs": [],
   "source": [
    "BASE_DIR = \"Museum labels\"\n",
    "TILE_SIZE = 1024\n",
    "\n",
    "for name in os.listdir(BASE_DIR):\n",
    "    path = os.path.join(BASE_DIR, name)\n",
    "    if os.path.isdir(path):\n",
    "        image1_path = os.path.join(path, f\"{name}.JPG\")\n",
    "        image2_path = os.path.join(path, f\"{name}_labels.png\")\n",
    "        os.makedirs(f\"tiled_labels/{name}\", exist_ok=True)\n",
    "        split_images(image1_path, image2_path, TILE_SIZE, f\"tiled_labels/{name}\")\n",
    "        print(f\"Finished tiling {name}\")"
   ]
  },
  {
   "cell_type": "code",
   "execution_count": null,
   "id": "1c70ea7a-e237-4fde-b303-675d0d9d43ad",
   "metadata": {},
   "outputs": [],
   "source": []
  }
 ],
 "metadata": {
  "kernelspec": {
   "display_name": "Python 3 (ipykernel)",
   "language": "python",
   "name": "python3"
  },
  "language_info": {
   "codemirror_mode": {
    "name": "ipython",
    "version": 3
   },
   "file_extension": ".py",
   "mimetype": "text/x-python",
   "name": "python",
   "nbconvert_exporter": "python",
   "pygments_lexer": "ipython3",
   "version": "3.13.2"
  }
 },
 "nbformat": 4,
 "nbformat_minor": 5
}
